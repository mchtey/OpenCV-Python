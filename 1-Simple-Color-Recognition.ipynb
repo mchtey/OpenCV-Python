{
 "cells": [
  {
   "cell_type": "markdown",
   "id": "376111db-e137-4f4b-8dc7-b46ddd85e20d",
   "metadata": {},
   "source": [
    "# <font color=orange>**OPENCV**</font> "
   ]
  },
  {
   "cell_type": "markdown",
   "id": "bdb1d531-56dd-45ac-b957-65b24c33e4a4",
   "metadata": {},
   "source": [
    "## <font color=gray>**Projects**</font> "
   ]
  },
  {
   "cell_type": "markdown",
   "id": "c1fc3f78-0e1e-4a5b-9487-ca271dc336a4",
   "metadata": {},
   "source": [
    "### <font color=dimgray>**Simple Color Recognition --**</font> <font color=peru>**1**</font> "
   ]
  },
  {
   "cell_type": "code",
   "execution_count": 2,
   "id": "6eb3b252-4d50-4444-b7b7-1eaa46672ba4",
   "metadata": {},
   "outputs": [],
   "source": [
    "import cv2"
   ]
  },
  {
   "cell_type": "code",
   "execution_count": 14,
   "id": "54f0f990-5750-41e1-be61-929ef8046822",
   "metadata": {},
   "outputs": [],
   "source": [
    "cap = cv2.VideoCapture(0)\n",
    "cap.set(cv2.CAP_PROP_FRAME_WIDTH,1280)\n",
    "cap.set(cv2.CAP_PROP_FRAME_HEIGHT,720)\n",
    "\n",
    "while True:\n",
    "    _,frame = cap.read()\n",
    "    hsv_frame = cv2.cvtColor(frame,cv2.COLOR_BGR2HSV)\n",
    "    height, width, _ = frame.shape\n",
    "    \n",
    "    cx = int(width/2)\n",
    "    cy = int(height/2)\n",
    "    \n",
    "    # Kameranin ortasina bir piksel olusturma:\n",
    "    pixel_center = hsv_frame[cy,cx]\n",
    "    hue_value = pixel_center[0]\n",
    "    \n",
    "    color = 'Undefined'\n",
    "    if hue_value < 5:\n",
    "        color = 'RED'\n",
    "    \n",
    "    elif hue_value < 22:\n",
    "        color = 'ORANGE'\n",
    "        \n",
    "    elif hue_value < 33:\n",
    "        color = 'YELLOW'\n",
    "        \n",
    "    elif hue_value < 78:\n",
    "        color = 'GREEN'\n",
    "    \n",
    "    elif hue_value < 131:\n",
    "        color = 'BLUE'\n",
    "        \n",
    "    elif hue_value < 170:\n",
    "        color = 'VIOLET'\n",
    "    \n",
    "    else:\n",
    "        color = 'RED'\n",
    "    \n",
    "    pixel_center_bgr = frame[cx,cy]\n",
    "    b, g, r = int(pixel_center_bgr[0]), int(pixel_center_bgr[1]), int(pixel_center_bgr[2])\n",
    "    \n",
    "    cv2.rectangle(frame, (cx-220,10), (cx+200,120),(255,255,255),-1)\n",
    "    cv2.putText(frame, color, (cx-200,100), 0, 3, (b,g,r), 5)\n",
    "    cv2.circle(frame, (cx,cy), 5, (25,25,25),3)\n",
    "    \n",
    "    \n",
    "    cv2.imshow('Frame',frame)\n",
    "    key = cv2.waitKey(1)\n",
    "    if key == ord('q'): \n",
    "        break\n",
    "    \n",
    "    \n",
    "    \n",
    "cap.release()\n",
    "cv2.destroyAllWindows()"
   ]
  },
  {
   "cell_type": "code",
   "execution_count": null,
   "id": "b2ff6e72-e9d0-4667-9aab-fcbfdad3f665",
   "metadata": {},
   "outputs": [],
   "source": []
  }
 ],
 "metadata": {
  "kernelspec": {
   "display_name": "Python 3 (ipykernel)",
   "language": "python",
   "name": "python3"
  },
  "language_info": {
   "codemirror_mode": {
    "name": "ipython",
    "version": 3
   },
   "file_extension": ".py",
   "mimetype": "text/x-python",
   "name": "python",
   "nbconvert_exporter": "python",
   "pygments_lexer": "ipython3",
   "version": "3.9.15"
  }
 },
 "nbformat": 4,
 "nbformat_minor": 5
}
