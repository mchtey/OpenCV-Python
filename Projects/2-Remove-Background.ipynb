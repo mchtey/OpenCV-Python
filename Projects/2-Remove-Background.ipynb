{
 "cells": [
  {
   "cell_type": "markdown",
   "id": "1d1bb2f6-31e0-471b-9793-d046f318b33e",
   "metadata": {},
   "source": [
    "# <font color=orange>**OPENCV**</font> "
   ]
  },
  {
   "cell_type": "markdown",
   "id": "71f5ea8b-9aa1-4222-a8c8-956559221b8c",
   "metadata": {},
   "source": [
    "## <font color=gray>**Projects**</font> "
   ]
  },
  {
   "cell_type": "markdown",
   "id": "2fd06741-180e-4922-a761-05f51d3457b6",
   "metadata": {},
   "source": [
    "### <font color=dimgray>**Remove background --**</font> <font color=peru>**2**</font> "
   ]
  },
  {
   "cell_type": "code",
   "execution_count": 1,
   "id": "5f01c3a0-f015-41fa-b9da-7f3d19951d17",
   "metadata": {},
   "outputs": [],
   "source": [
    "import cv2\n",
    "import numpy as np"
   ]
  },
  {
   "cell_type": "code",
   "execution_count": 3,
   "id": "18a2f5d2-12e4-4231-b90a-9375f6dcd6e2",
   "metadata": {},
   "outputs": [],
   "source": [
    "cap = cv2.VideoCapture(0)\n",
    "\n",
    "while True:\n",
    "    _, frame = cap.read()\n",
    "    \n",
    "    hsv = cv2.cvtColor(frame, cv2.COLOR_BGR2HSV)\n",
    "    \n",
    "    lower_green = np.array([0,0,0])\n",
    "    upper_green = np.array([179,255,255])\n",
    "    \n",
    "    mask = cv2.inRange(hsv, lower_green, upper_green)\n",
    "    \n",
    "\n",
    "    \n",
    "    cv2.imshow('frame',frame)\n",
    "    cv2.imshow('mask',mask)\n",
    "    \n",
    "    \n",
    "    k = cv2.waitKey(1) & 0xFF\n",
    "    if k == ord('q'): \n",
    "        break\n",
    "    \n",
    "\n",
    "cap.release()\n",
    "cv2.destroyAllWindows()"
   ]
  },
  {
   "cell_type": "code",
   "execution_count": 10,
   "id": "fc06276a-05f3-4811-a5f2-0a75b4402fee",
   "metadata": {},
   "outputs": [],
   "source": [
    "## Simdi arka plan ayarlari icin farkli degerler denemesi:\n",
    "\n",
    "cap = cv2.VideoCapture(0)\n",
    "\n",
    "while True:\n",
    "    _, frame = cap.read()\n",
    "    \n",
    "    hsv = cv2.cvtColor(frame, cv2.COLOR_BGR2HSV)\n",
    "    \n",
    "    lower_green = np.array([0,0,0])\n",
    "    upper_green = np.array([60,255,255])\n",
    "    \n",
    "    mask = cv2.inRange(hsv, lower_green, upper_green)\n",
    "    \n",
    "\n",
    "    \n",
    "    cv2.imshow('frame',frame)\n",
    "    cv2.imshow('mask',mask)\n",
    "    \n",
    "    \n",
    "    k = cv2.waitKey(1) & 0xFF\n",
    "    if k == ord('q'): \n",
    "        break\n",
    "    \n",
    "\n",
    "cap.release()\n",
    "cv2.destroyAllWindows()"
   ]
  },
  {
   "cell_type": "code",
   "execution_count": 19,
   "id": "ad911fe8-11dc-401c-ab3d-c899770a49e4",
   "metadata": {},
   "outputs": [],
   "source": [
    "# Degerlerle oynayarak netice elde etmenin diger yolu bir izleme cubugu olusturmak:\n",
    "\n",
    "\n",
    "\n",
    "cap = cv2.VideoCapture(0)\n",
    "\n",
    "panel = np.zeros([100, 800], np.uint8)\n",
    "cv2.namedWindow('panel')\n",
    "\n",
    "def nothing(x): \n",
    "    pass \n",
    "\n",
    "cv2.createTrackbar('L – h', 'panel', 0, 179, nothing) \n",
    "cv2.createTrackbar('U – h', 'panel', 179, 179, nothing) \n",
    "cv2.createTrackbar('L – s', 'panel', 0, 255, nothing) \n",
    "cv2.createTrackbar('U – s', 'panel', 255, 255, nothing) \n",
    "cv2.createTrackbar('L – v', 'panel', 0, 255, nothing) \n",
    "cv2.createTrackbar('U – v', 'panel', 255, 255, nothing) \n",
    "\n",
    "cv2.createTrackbar('S ROWS', 'panel', 0, 480, nothing) \n",
    "cv2.createTrackbar('E ROWS', 'panel', 480, 480, nothing) \n",
    "cv2.createTrackbar('S COL', 'panel', 0, 640, nothing) \n",
    "cv2.createTrackbar('E COL', 'panel', 640, 640, nothing)\n",
    "\n",
    "while True:\n",
    "    _, frame = cap.read()\n",
    "    \n",
    "    s_r = cv2.getTrackbarPos('S ROWS', 'panel')\n",
    "    e_r = cv2.getTrackbarPos('E ROWS', 'panel')\n",
    "    s_c = cv2.getTrackbarPos('S COL', 'panel')\n",
    "    e_c = cv2.getTrackbarPos('E COL', 'panel')\n",
    "    \n",
    "    \n",
    "    roi = frame[s_r:e_r, s_c:e_c]\n",
    "    \n",
    "    hsv = cv2.cvtColor(roi, cv2.COLOR_BGR2HSV)\n",
    "    \n",
    "    l_h = cv2.getTrackbarPos('L – h', 'panel')\n",
    "    u_h = cv2.getTrackbarPos('U – h', 'panel')\n",
    "    l_s = cv2.getTrackbarPos('L – s', 'panel')\n",
    "    u_s = cv2.getTrackbarPos('U – v', 'panel')\n",
    "    l_v = cv2.getTrackbarPos('L – v', 'panel')\n",
    "    u_v = cv2.getTrackbarPos('U – v', 'panel')\n",
    "    \n",
    "    \n",
    "    \n",
    "    lower_green = np.array([l_h,l_s,l_v])\n",
    "    upper_green = np.array([u_h,u_s,u_v])\n",
    "    \n",
    "    mask = cv2.inRange(hsv, lower_green, upper_green)\n",
    "    mask_inv = cv2.bitwise_not(mask)\n",
    "    \n",
    "    bg = cv2.bitwise_and(roi, roi, mask = mask)\n",
    "    fg = cv2.bitwise_and(roi, roi, mask = mask_inv)\n",
    "    \n",
    "    cv2.imshow('bg',bg)\n",
    "    cv2.imshow('fg',fg)\n",
    "    cv2.imshow('panel',panel)\n",
    "    \n",
    "    k = cv2.waitKey(1) & 0xFF\n",
    "    if k == ord('q'): \n",
    "        break\n",
    "    \n",
    "\n",
    "cap.release()\n",
    "cv2.destroyAllWindows()"
   ]
  },
  {
   "cell_type": "code",
   "execution_count": null,
   "id": "7aac08e5-e0d4-48be-94d7-fe53ed269655",
   "metadata": {},
   "outputs": [],
   "source": []
  }
 ],
 "metadata": {
  "kernelspec": {
   "display_name": "Python 3 (ipykernel)",
   "language": "python",
   "name": "python3"
  },
  "language_info": {
   "codemirror_mode": {
    "name": "ipython",
    "version": 3
   },
   "file_extension": ".py",
   "mimetype": "text/x-python",
   "name": "python",
   "nbconvert_exporter": "python",
   "pygments_lexer": "ipython3",
   "version": "3.9.15"
  }
 },
 "nbformat": 4,
 "nbformat_minor": 5
}
